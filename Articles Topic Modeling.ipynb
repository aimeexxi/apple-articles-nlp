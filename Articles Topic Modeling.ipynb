{
 "cells": [
  {
   "cell_type": "markdown",
   "metadata": {},
   "source": [
    "## **Module 8 Assignment: LDA Topic Modeling with Scikit Learn**"
   ]
  },
  {
   "cell_type": "markdown",
   "metadata": {},
   "source": [
    "**Import libraries**"
   ]
  },
  {
   "cell_type": "code",
   "execution_count": 86,
   "metadata": {},
   "outputs": [],
   "source": [
    "import os\n",
    "import numpy as np\n",
    "import pandas as pd\n",
    "import json, re, nltk\n",
    "\n",
    "import warnings\n",
    "warnings.filterwarnings(\"ignore\", category=DeprecationWarning)\n",
    "\n",
    "import pyLDAvis\n",
    "import pyLDAvis.sklearn\n",
    "pyLDAvis.enable_notebook()\n",
    "\n",
    "from sklearn.feature_extraction.text import CountVectorizer\n",
    "from sklearn.decomposition import LatentDirichletAllocation\n",
    "from nltk.stem.wordnet import WordNetLemmatizer\n",
    "\n",
    "stopwords = set(nltk.corpus.stopwords.words('english'))"
   ]
  },
  {
   "cell_type": "markdown",
   "metadata": {},
   "source": [
    "**Import deduplicated dataset**"
   ]
  },
  {
   "cell_type": "code",
   "execution_count": 9,
   "metadata": {},
   "outputs": [
    {
     "data": {
      "text/plain": [
       "'/Users/aimeetran/Desktop/COLUMBIA UNIVERSITY /FALL 2020/APAN 5430 APPLIED TEXT & NL ANALYTICS/8. Topic Modeling'"
      ]
     },
     "execution_count": 9,
     "metadata": {},
     "output_type": "execute_result"
    }
   ],
   "source": [
    "os.getcwd()"
   ]
  },
  {
   "cell_type": "code",
   "execution_count": 20,
   "metadata": {},
   "outputs": [],
   "source": [
    "apple_data= []\n",
    "with open('/Users/aimeetran/Desktop/COLUMBIA UNIVERSITY /FALL 2020/APAN 5430 APPLIED TEXT & NL ANALYTICS/8. Topic Modeling/deduplicated.json', 'r') as f:\n",
    "    for line in f.readlines():\n",
    "        apple_data.append(json.loads(line))"
   ]
  },
  {
   "cell_type": "code",
   "execution_count": 87,
   "metadata": {},
   "outputs": [
    {
     "data": {
      "text/plain": [
       "['New iPad Air may come with USB-C not Lightning Port',\n",
       " 'iOS 14 Will Reportedly Support All iPhone Models Running iOS 13',\n",
       " 'iPhone Looters Being Tracked – Apple Warns Phone Thiefs',\n",
       " 'Apple bug exposed user accounts to hackers',\n",
       " \"French govt's StopCovid tracing app debuts on Google Play store\",\n",
       " 'American Companies Take An Anti-Racism Stand En Masse Amid Countrywide Riots And Protests In America',\n",
       " 'iOS 13.5.1 vs iOS 13.5.5 beta 1 speed test (Video)',\n",
       " 'Mr. Ranjeet Sundher reports 60% OF GLOBAL COBALT SUPPLY AT R',\n",
       " 'Apple TV Users Can Now Enjoy YouTube Kids',\n",
       " 'Tech giants condemn racial discrimination, George Floyd death']"
      ]
     },
     "execution_count": 87,
     "metadata": {},
     "output_type": "execute_result"
    }
   ],
   "source": [
    "feed_titles = [feed['title'] for feed in apple_data[0]]\n",
    "feed_titles[0:10]"
   ]
  },
  {
   "cell_type": "markdown",
   "metadata": {},
   "source": [
    "## **1. Train LDA model to identify topic distribution and keywords**"
   ]
  },
  {
   "cell_type": "markdown",
   "metadata": {},
   "source": [
    "**1a. Titles Tokenization**"
   ]
  },
  {
   "cell_type": "code",
   "execution_count": 23,
   "metadata": {},
   "outputs": [],
   "source": [
    "def tokenize_titles(title):\n",
    "    tokens = nltk.word_tokenize(title)\n",
    "    lmtzr = WordNetLemmatizer()\n",
    "    filtered_tokens = []\n",
    "    \n",
    "    for token in tokens:\n",
    "        token = token.replace(\"'s\", \" \").replace(\"n’t\", \" not\").replace(\"’ve\", \" have\")\n",
    "        token = re.sub(r'[^a-zA-Z0-9 ]', '', token)\n",
    "        if token not in stopwords:\n",
    "            filtered_tokens.append(token.lower())\n",
    "    \n",
    "    lemmas = [lmtzr.lemmatize(t,'v') for t in filtered_tokens]\n",
    "\n",
    "    return lemmas"
   ]
  },
  {
   "cell_type": "markdown",
   "metadata": {},
   "source": [
    "**1b. Parameters Selection**"
   ]
  },
  {
   "cell_type": "code",
   "execution_count": 88,
   "metadata": {},
   "outputs": [
    {
     "data": {
      "text/html": [
       "<div>\n",
       "<style scoped>\n",
       "    .dataframe tbody tr th:only-of-type {\n",
       "        vertical-align: middle;\n",
       "    }\n",
       "\n",
       "    .dataframe tbody tr th {\n",
       "        vertical-align: top;\n",
       "    }\n",
       "\n",
       "    .dataframe thead th {\n",
       "        text-align: right;\n",
       "    }\n",
       "</style>\n",
       "<table border=\"1\" class=\"dataframe\">\n",
       "  <thead>\n",
       "    <tr style=\"text-align: right;\">\n",
       "      <th></th>\n",
       "      <th>max_features</th>\n",
       "      <th>max_df</th>\n",
       "      <th>min_df</th>\n",
       "      <th>max_iter</th>\n",
       "    </tr>\n",
       "  </thead>\n",
       "  <tbody>\n",
       "    <tr>\n",
       "      <th>0</th>\n",
       "      <td>500</td>\n",
       "      <td>100</td>\n",
       "      <td>2</td>\n",
       "      <td>200</td>\n",
       "    </tr>\n",
       "    <tr>\n",
       "      <th>1</th>\n",
       "      <td>800</td>\n",
       "      <td>100</td>\n",
       "      <td>2</td>\n",
       "      <td>200</td>\n",
       "    </tr>\n",
       "    <tr>\n",
       "      <th>2</th>\n",
       "      <td>1000</td>\n",
       "      <td>100</td>\n",
       "      <td>3</td>\n",
       "      <td>300</td>\n",
       "    </tr>\n",
       "  </tbody>\n",
       "</table>\n",
       "</div>"
      ],
      "text/plain": [
       "   max_features  max_df  min_df  max_iter\n",
       "0           500     100       2       200\n",
       "1           800     100       2       200\n",
       "2          1000     100       3       300"
      ]
     },
     "execution_count": 88,
     "metadata": {},
     "output_type": "execute_result"
    }
   ],
   "source": [
    "import pandas as pd\n",
    "d = {'max_features': [500, 800,1000], 'max_df': [100, 100,100],'min_df': [2, 2,3], 'max_iter':[200,200,300]}\n",
    "df = pd.DataFrame(data=d)\n",
    "df"
   ]
  },
  {
   "cell_type": "markdown",
   "metadata": {},
   "source": [
    "**1c. Term_document matrix**"
   ]
  },
  {
   "cell_type": "code",
   "execution_count": 89,
   "metadata": {},
   "outputs": [
    {
     "name": "stdout",
     "output_type": "stream",
     "text": [
      "(8020, 500)\n"
     ]
    }
   ],
   "source": [
    "tf_vectorizer = CountVectorizer(strip_accents = 'unicode',\n",
    "                                stop_words = 'english',\n",
    "                                lowercase = True,\n",
    "                                #tokenizer=tokenize_titles,\n",
    "                                max_features=df['max_features'][0],\n",
    "                                token_pattern = r'\\b[a-zA-Z]{3,}\\b',\n",
    "                                max_df = df['max_df'][0],  #modify\n",
    "                                min_df = df['min_df'][0], #modify\n",
    "                                ngram_range=(2,4))\n",
    "dtm_tf = tf_vectorizer.fit_transform(feed_titles)\n",
    "print(dtm_tf.shape)"
   ]
  },
  {
   "cell_type": "markdown",
   "metadata": {},
   "source": [
    "**1d. LDA Clustering**"
   ]
  },
  {
   "cell_type": "code",
   "execution_count": 59,
   "metadata": {},
   "outputs": [
    {
     "data": {
      "text/plain": [
       "LatentDirichletAllocation(learning_method='online', max_iter=200,\n",
       "                          n_components=5, random_state=0)"
      ]
     },
     "execution_count": 59,
     "metadata": {},
     "output_type": "execute_result"
    }
   ],
   "source": [
    "lda_tf = LatentDirichletAllocation(n_components=5, \n",
    "                                   max_iter=df['max_iter'][0], #modify\n",
    "                                   learning_method='online', \n",
    "                                   random_state = 0)\n",
    "lda_tf.fit(dtm_tf)"
   ]
  },
  {
   "cell_type": "code",
   "execution_count": 60,
   "metadata": {},
   "outputs": [
    {
     "name": "stdout",
     "output_type": "stream",
     "text": [
      "Topic #0:\n",
      "apple releases | ipad pro | inch macbook pro | inch macbook | apple ios | ios update | stimulus check | macos catalina | releases ios | apple releases ios\n",
      "Topic #1:\n",
      "memorial day | shares apple | shares apple nasdaq | shares apple nasdaq aapl | iphone pro | sells shares | sells shares apple | iphone ipad | sign apple | sells shares apple nasdaq\n",
      "Topic #2:\n",
      "apple watch series | watch series | aapl shares | nasdaq aapl shares | apple nasdaq aapl shares | apple airpods | exposure notification | airpods pro | google release | apple google release\n",
      "Topic #3:\n",
      "contact tracing app | google apple | covid contact | covid contact tracing | samsung galaxy | position apple | martin scorsese | position apple nasdaq aapl | position apple nasdaq | killers flower\n",
      "Topic #4:\n",
      "george floyd | apple podcasts | release date | tech giants | tim cook | new apple | apple glass | tracing tech | popular smartphone | coronavirus contact\n"
     ]
    }
   ],
   "source": [
    "n_top_words = 10\n",
    "tf_feature_names = tf_vectorizer.get_feature_names()\n",
    "\n",
    "topics = dict()\n",
    "for topic_idx, topic in enumerate(lda_tf.components_):\n",
    "    topics[topic_idx] = [tf_feature_names[i] for i in topic.argsort()[:-n_top_words - 1:-1]]\n",
    "    print(\"Topic #%d:\" % topic_idx)\n",
    "    print(\" | \".join([tf_feature_names[i] for i in topic.argsort()[:-n_top_words - 1:-1]]))"
   ]
  },
  {
   "cell_type": "markdown",
   "metadata": {},
   "source": [
    "**Visualization**"
   ]
  },
  {
   "cell_type": "code",
   "execution_count": 61,
   "metadata": {},
   "outputs": [
    {
     "data": {
      "text/html": [
       "\n",
       "<link rel=\"stylesheet\" type=\"text/css\" href=\"https://cdn.rawgit.com/bmabey/pyLDAvis/files/ldavis.v1.0.0.css\">\n",
       "\n",
       "\n",
       "<div id=\"ldavis_el352301404791689498246078295407\"></div>\n",
       "<script type=\"text/javascript\">\n",
       "\n",
       "var ldavis_el352301404791689498246078295407_data = {\"mdsDat\": {\"x\": [0.015557249165639648, 0.27866011781725986, 0.13569121445032928, -0.15199825607571346, -0.27791032535751525], \"y\": [0.39300544734629606, -0.10388528788093314, -0.11040509488811699, -0.09412248969553096, -0.08459257488171469], \"topics\": [1, 2, 3, 4, 5], \"cluster\": [1, 1, 1, 1, 1], \"Freq\": [26.25876628680207, 20.803371451419434, 17.909271207340662, 17.870614314193162, 17.157976740244667]}, \"tinfo\": {\"Term\": [\"apple releases\", \"memorial day\", \"ipad pro\", \"shares apple\", \"apple watch series\", \"watch series\", \"contact tracing app\", \"google apple\", \"shares apple nasdaq\", \"shares apple nasdaq aapl\", \"george floyd\", \"aapl shares\", \"nasdaq aapl shares\", \"apple nasdaq aapl shares\", \"inch macbook\", \"inch macbook pro\", \"iphone pro\", \"apple airpods\", \"covid contact\", \"exposure notification\", \"apple ios\", \"airpods pro\", \"covid contact tracing\", \"apple podcasts\", \"apple google release\", \"google release\", \"samsung galaxy\", \"ios update\", \"stimulus check\", \"sells shares\", \"contact tracing app\", \"google apple\", \"covid contact\", \"covid contact tracing\", \"samsung galaxy\", \"position apple\", \"martin scorsese\", \"position apple nasdaq aapl\", \"position apple nasdaq\", \"killers flower moon\", \"flower moon\", \"killers flower\", \"powerbeats pro\", \"fraggle rock\", \"apple google contact\", \"google contact\", \"apple google contact tracing\", \"google contact tracing\", \"apple stores\", \"big tech\", \"google covid\", \"apple google covid\", \"stock position\", \"apple store\", \"refurbished iphone\", \"gal gadot\", \"apple plus\", \"google launch\", \"apple google launch\", \"retail stores\", \"apple watch series\", \"watch series\", \"aapl shares\", \"nasdaq aapl shares\", \"apple nasdaq aapl shares\", \"apple airpods\", \"exposure notification\", \"airpods pro\", \"google release\", \"apple google release\", \"central park\", \"holdings apple\", \"notification api\", \"exposure notification api\", \"aapl shares sold\", \"shares sold\", \"holdings apple nasdaq aapl\", \"holdings apple nasdaq\", \"need know\", \"nasdaq aapl shares sold\", \"ios ipados\", \"tracing apps\", \"apple new\", \"covid exposure\", \"best iphone\", \"contact tracing apps\", \"stock holdings\", \"new iphone\", \"asset management\", \"series gps\", \"apple watch series gps\", \"management llc\", \"memorial day\", \"shares apple\", \"shares apple nasdaq\", \"shares apple nasdaq aapl\", \"iphone pro\", \"sells shares apple\", \"sells shares\", \"iphone ipad\", \"sign apple\", \"sells shares apple nasdaq\", \"iphone iphone\", \"mythic quest\", \"smartphone sales\", \"defending jacob\", \"global smartphone\", \"largest position\", \"global smartphone sales\", \"wireless earbuds\", \"unlock iphone\", \"apple homepod\", \"best apple\", \"apple music\", \"iphone launch\", \"covid impact\", \"youtube kids\", \"iphone camera\", \"memorial day sale\", \"day sale\", \"pro max\", \"llc sells\", \"llc sells shares apple\", \"llc sells shares\", \"george floyd\", \"apple podcasts\", \"release date\", \"tech giants\", \"tim cook\", \"new apple\", \"apple glass\", \"tracing tech\", \"popular smartphone\", \"coronavirus contact\", \"social media\", \"contact tracing tech\", \"coronavirus contact tracing\", \"airpods studio\", \"steve jobs\", \"face mask\", \"tracing api\", \"apple release\", \"app store\", \"streaming service\", \"contact tracing api\", \"remote work\", \"technology news\", \"apple ceo\", \"apple acquires\", \"economic times\", \"executive order\", \"ceo tim cook\", \"ceo tim\", \"lowest price\", \"apple releases\", \"ipad pro\", \"inch macbook pro\", \"inch macbook\", \"apple ios\", \"stimulus check\", \"ios update\", \"macos catalina\", \"releases ios\", \"apple releases ios\", \"apple reopen\", \"stores week\", \"apple ipad\", \"little voice\", \"reopen stores\", \"google pixel\", \"apple buys\", \"apple pay\", \"ios jailbreak\", \"apple reopen stores\", \"battery health\", \"jailbreak ios\", \"machine learning\", \"tom hanks\", \"jailbreak tool\", \"new jailbreak\", \"wall street\", \"best buy\", \"dolby atmos\", \"ios app\"], \"Freq\": [81.0, 80.0, 74.0, 71.0, 77.0, 77.0, 88.0, 87.0, 64.0, 64.0, 56.0, 61.0, 57.0, 57.0, 50.0, 50.0, 52.0, 57.0, 67.0, 56.0, 48.0, 55.0, 65.0, 47.0, 52.0, 52.0, 62.0, 45.0, 45.0, 44.0, 87.79679344776302, 86.5909483078954, 66.48312927088234, 64.64248589029134, 61.34792302626101, 47.2820110693313, 44.30303533664448, 41.819420059740175, 41.819420059740175, 37.10483803498883, 37.10483803498883, 37.10483803498883, 33.782965978853426, 33.788404994335494, 33.72012683983959, 33.72012683983959, 31.834976864343695, 31.834976864343695, 31.61304510486831, 29.217769837024374, 29.216701399044158, 29.216701399044158, 26.46892413970313, 26.353731786653203, 26.176009168362388, 26.16630829388162, 25.946459534715437, 25.187528164678834, 24.24872526545187, 23.74215103376586, 76.24710127444565, 76.24710127444565, 60.715274442763366, 56.991858627004326, 56.991858627004326, 56.27673219241825, 55.2514644318349, 54.24422870360239, 51.553353776581375, 51.553353776581375, 46.55284825177053, 40.82612879116456, 40.1808957249854, 39.19984323387985, 38.92697456034817, 38.92697456034817, 38.030347969133416, 38.030347969133416, 37.248310068587514, 36.148460895453944, 36.21664630315402, 30.5299461744234, 28.263939834483594, 27.566209431687582, 27.191558467620393, 26.656637509497, 26.62025678967962, 25.332955781171215, 24.738639930385744, 22.532469181475506, 22.532469181475506, 24.55530515119199, 79.5047013317806, 70.27063020321636, 63.58761032944945, 63.58761032944945, 51.39889784916382, 43.82943632412291, 43.82943632412291, 41.1573437202996, 40.07987859267689, 39.06646736441216, 34.663257274416445, 31.978502024404886, 30.355294849462606, 30.101133744849196, 26.538088727667944, 26.345825241230663, 23.72087108882709, 22.320676567358955, 22.13109279984215, 20.91232365371201, 20.800599005009676, 20.243587346713227, 19.6485991718977, 18.62360446392635, 18.5908595411844, 17.73394543191117, 17.059585602957227, 17.059585602957227, 16.794389838605287, 16.742235115149956, 16.742235115149956, 16.742235115149956, 55.346328199257684, 46.90470519308157, 38.88550713444165, 37.526933110118485, 36.85771627457895, 34.77526829036153, 32.70598833459313, 30.371773172951748, 26.6641989695225, 26.1169071912086, 25.449821036881477, 25.354731565073283, 25.126797607769724, 24.863810233443868, 24.241068606062388, 23.48102621115132, 23.38076202956007, 22.237711545660183, 21.744070491221752, 20.84519270954117, 19.403871773163385, 19.221477006747048, 18.746754563735927, 18.515507659346525, 18.642534599711222, 17.86764399578814, 16.71897480978291, 16.660276336518635, 16.660276336518635, 16.682910540494223, 81.1389949931376, 73.95020878461942, 50.1079316477619, 50.1079316477619, 48.06571770156455, 44.79422352628648, 44.95577247292694, 41.52550251432116, 37.91852509053606, 37.91852509053606, 35.11742251232331, 28.52803642185847, 26.571657352435953, 25.249108423540033, 24.74176267618269, 24.60090417797402, 23.66150253050916, 22.60457978784346, 20.99674961606525, 20.943786532231876, 20.855814243850325, 20.001002174700155, 19.786302282117454, 19.691463154489487, 19.150180904384538, 19.12414135040182, 18.298878788269345, 18.400359141035008, 17.823143573411397, 17.794982498037566], \"Total\": [81.0, 80.0, 74.0, 71.0, 77.0, 77.0, 88.0, 87.0, 64.0, 64.0, 56.0, 61.0, 57.0, 57.0, 50.0, 50.0, 52.0, 57.0, 67.0, 56.0, 48.0, 55.0, 65.0, 47.0, 52.0, 52.0, 62.0, 45.0, 45.0, 44.0, 88.57353805081989, 87.37193520459954, 67.259676087731, 65.41901415064376, 62.12624547680023, 48.05602203065805, 45.07721952264083, 42.593037572877456, 42.593037572877456, 37.878587189551695, 37.878587189551695, 37.878587189551695, 34.55689266005057, 34.56342418879769, 34.49554488747804, 34.49554488747804, 32.610507592497186, 32.610507592497186, 32.390623621901824, 29.994201851263128, 29.994105773176834, 29.994105773176834, 27.24251444243349, 27.129563627082383, 26.950438133456064, 26.94112383563313, 26.725200293987314, 25.963257073562215, 25.024538801978945, 24.52557824654364, 77.01382402851611, 77.01382402851611, 61.48131505928495, 57.75789898645519, 57.75789898645519, 57.04834834151128, 56.01976488413865, 55.013452481186356, 52.32067865780813, 52.32067865780813, 47.31969407503357, 41.59216088792254, 40.94899829206495, 39.96777383396326, 39.69301345951388, 39.69301345951388, 38.79638015010565, 38.79638015010565, 38.01675622181647, 36.914500182092176, 36.988351356992325, 31.299002114153524, 29.03353266384699, 28.336645515316032, 27.965484249948577, 27.42462950090646, 27.38841936449874, 26.10252618833721, 25.512625901508716, 23.298499289487417, 23.298499289487417, 36.25713174170454, 80.2681444746797, 71.03133540240465, 64.34832544990616, 64.34832544990616, 52.16056793890849, 44.590036334266074, 44.590036334266074, 41.919194637851135, 40.8446912302044, 39.82706367443821, 35.42424351475228, 32.73906120325785, 31.115848670562723, 30.862023982475236, 27.29863493315844, 27.107054470086847, 24.481408286057615, 23.08553237782554, 22.922740992093505, 21.674490208543883, 21.56236575369615, 21.00533488651152, 20.41058264177586, 19.38413868552153, 19.351428077230896, 18.495614487992093, 17.821239061070933, 17.821239061070933, 17.555342926911134, 17.502931742754615, 17.502931742754615, 17.502931742754615, 56.105987772772224, 47.66420823395485, 39.64754734321631, 38.28751770661544, 37.61764656019617, 35.53934918500387, 33.46571932278299, 31.136299051815964, 27.42357913280995, 26.879082685863633, 26.20926125202103, 26.11900620443287, 25.889088815061815, 25.624201854335965, 25.000911536468227, 24.24564602988049, 24.146069412278024, 23.00807472371856, 22.504528997441675, 21.60586379201243, 20.16938833893741, 19.981068540308073, 19.51365240926678, 19.274858727455747, 19.414400189603214, 18.63087703467249, 17.478418586993456, 17.41964960733945, 17.41964960733945, 17.45083856563291, 81.90736612145614, 74.72029049652168, 50.87572949767837, 50.87572949767837, 48.83579786920268, 45.56133644192754, 45.72658639037903, 42.29282659759926, 38.68685288009821, 38.68685288009821, 35.88531007937103, 29.2967121757227, 27.3403762687409, 26.022039201761537, 25.509032914607374, 25.368387227507128, 24.42982500494239, 23.372724311068808, 21.763944417606602, 21.710905412393274, 21.622864920439113, 20.769063066486392, 20.554359226256075, 20.459149317185837, 19.91801560613771, 19.892516151760884, 19.067475107597513, 19.18691801517849, 18.590329054738806, 18.56366028280271], \"Category\": [\"Default\", \"Default\", \"Default\", \"Default\", \"Default\", \"Default\", \"Default\", \"Default\", \"Default\", \"Default\", \"Default\", \"Default\", \"Default\", \"Default\", \"Default\", \"Default\", \"Default\", \"Default\", \"Default\", \"Default\", \"Default\", \"Default\", \"Default\", \"Default\", \"Default\", \"Default\", \"Default\", \"Default\", \"Default\", \"Default\", \"Topic1\", \"Topic1\", \"Topic1\", \"Topic1\", \"Topic1\", \"Topic1\", \"Topic1\", \"Topic1\", \"Topic1\", \"Topic1\", \"Topic1\", \"Topic1\", \"Topic1\", \"Topic1\", \"Topic1\", \"Topic1\", \"Topic1\", \"Topic1\", \"Topic1\", \"Topic1\", \"Topic1\", \"Topic1\", \"Topic1\", \"Topic1\", \"Topic1\", \"Topic1\", \"Topic1\", \"Topic1\", \"Topic1\", \"Topic1\", \"Topic2\", \"Topic2\", \"Topic2\", \"Topic2\", \"Topic2\", \"Topic2\", \"Topic2\", \"Topic2\", \"Topic2\", \"Topic2\", \"Topic2\", \"Topic2\", \"Topic2\", \"Topic2\", \"Topic2\", \"Topic2\", \"Topic2\", \"Topic2\", \"Topic2\", \"Topic2\", \"Topic2\", \"Topic2\", \"Topic2\", \"Topic2\", \"Topic2\", \"Topic2\", \"Topic2\", \"Topic2\", \"Topic2\", \"Topic2\", \"Topic2\", \"Topic2\", \"Topic3\", \"Topic3\", \"Topic3\", \"Topic3\", \"Topic3\", \"Topic3\", \"Topic3\", \"Topic3\", \"Topic3\", \"Topic3\", \"Topic3\", \"Topic3\", \"Topic3\", \"Topic3\", \"Topic3\", \"Topic3\", \"Topic3\", \"Topic3\", \"Topic3\", \"Topic3\", \"Topic3\", \"Topic3\", \"Topic3\", \"Topic3\", \"Topic3\", \"Topic3\", \"Topic3\", \"Topic3\", \"Topic3\", \"Topic3\", \"Topic3\", \"Topic3\", \"Topic4\", \"Topic4\", \"Topic4\", \"Topic4\", \"Topic4\", \"Topic4\", \"Topic4\", \"Topic4\", \"Topic4\", \"Topic4\", \"Topic4\", \"Topic4\", \"Topic4\", \"Topic4\", \"Topic4\", \"Topic4\", \"Topic4\", \"Topic4\", \"Topic4\", \"Topic4\", \"Topic4\", \"Topic4\", \"Topic4\", \"Topic4\", \"Topic4\", \"Topic4\", \"Topic4\", \"Topic4\", \"Topic4\", \"Topic4\", \"Topic5\", \"Topic5\", \"Topic5\", \"Topic5\", \"Topic5\", \"Topic5\", \"Topic5\", \"Topic5\", \"Topic5\", \"Topic5\", \"Topic5\", \"Topic5\", \"Topic5\", \"Topic5\", \"Topic5\", \"Topic5\", \"Topic5\", \"Topic5\", \"Topic5\", \"Topic5\", \"Topic5\", \"Topic5\", \"Topic5\", \"Topic5\", \"Topic5\", \"Topic5\", \"Topic5\", \"Topic5\", \"Topic5\", \"Topic5\"], \"logprob\": [30.0, 29.0, 28.0, 27.0, 26.0, 25.0, 24.0, 23.0, 22.0, 21.0, 20.0, 19.0, 18.0, 17.0, 16.0, 15.0, 14.0, 13.0, 12.0, 11.0, 10.0, 9.0, 8.0, 7.0, 6.0, 5.0, 4.0, 3.0, 2.0, 1.0, -3.4151, -3.4289, -3.6932, -3.7213, -3.7736, -4.034, -4.0991, -4.1568, -4.1568, -4.2764, -4.2764, -4.2764, -4.3702, -4.37, -4.372, -4.372, -4.4296, -4.4296, -4.4366, -4.5153, -4.5154, -4.5154, -4.6142, -4.6185, -4.6253, -4.6257, -4.6341, -4.6638, -4.7018, -4.7229, -3.3233, -3.3233, -3.551, -3.6143, -3.6143, -3.627, -3.6453, -3.6637, -3.7146, -3.7146, -3.8167, -3.9479, -3.9638, -3.9886, -3.9956, -3.9956, -4.0189, -4.0189, -4.0396, -4.0696, -4.0677, -4.2385, -4.3157, -4.3406, -4.3543, -4.3742, -4.3756, -4.4251, -4.4489, -4.5423, -4.5423, -4.4563, -3.1316, -3.2551, -3.355, -3.355, -3.5678, -3.7271, -3.7271, -3.79, -3.8166, -3.8422, -3.9618, -4.0424, -4.0945, -4.1029, -4.2289, -4.2361, -4.3411, -4.4019, -4.4105, -4.4671, -4.4725, -4.4996, -4.5294, -4.583, -4.5848, -4.632, -4.6707, -4.6707, -4.6864, -4.6895, -4.6895, -4.6895, -3.4917, -3.6572, -3.8447, -3.8802, -3.8982, -3.9564, -4.0177, -4.0918, -4.222, -4.2427, -4.2686, -4.2723, -4.2813, -4.2919, -4.3172, -4.3491, -4.3534, -4.4035, -4.4259, -4.4682, -4.5398, -4.5493, -4.5743, -4.5867, -4.5798, -4.6223, -4.6887, -4.6923, -4.6923, -4.6909, -3.0684, -3.1612, -3.5504, -3.5504, -3.592, -3.6625, -3.6589, -3.7383, -3.8291, -3.8291, -3.9059, -4.1137, -4.1847, -4.2358, -4.2561, -4.2618, -4.3007, -4.3464, -4.4202, -4.4227, -4.427, -4.4688, -4.4796, -4.4844, -4.5123, -4.5136, -4.5577, -4.5522, -4.5841, -4.5857], \"loglift\": [30.0, 29.0, 28.0, 27.0, 26.0, 25.0, 24.0, 23.0, 22.0, 21.0, 20.0, 19.0, 18.0, 17.0, 16.0, 15.0, 14.0, 13.0, 12.0, 11.0, 10.0, 9.0, 8.0, 7.0, 6.0, 5.0, 4.0, 3.0, 2.0, 1.0, 1.3284, 1.3282, 1.3256, 1.3252, 1.3246, 1.3209, 1.3198, 1.3188, 1.3188, 1.3165, 1.3165, 1.3165, 1.3145, 1.3145, 1.3144, 1.3144, 1.3131, 1.3131, 1.3129, 1.3109, 1.3109, 1.3109, 1.3084, 1.3082, 1.308, 1.308, 1.3076, 1.3068, 1.3057, 1.3047, 1.56, 1.56, 1.5575, 1.5567, 1.5567, 1.5564, 1.5562, 1.556, 1.5553, 1.5553, 1.5537, 1.5515, 1.5511, 1.5507, 1.5506, 1.5506, 1.5501, 1.5501, 1.5496, 1.5491, 1.549, 1.5452, 1.5432, 1.5425, 1.542, 1.5417, 1.5416, 1.5401, 1.5392, 1.5366, 1.5366, 1.1803, 1.7103, 1.7091, 1.708, 1.708, 1.7051, 1.7026, 1.7026, 1.7015, 1.7009, 1.7006, 1.6981, 1.6963, 1.6951, 1.6949, 1.6916, 1.6914, 1.6883, 1.6862, 1.6847, 1.6841, 1.6839, 1.6829, 1.6818, 1.6798, 1.6798, 1.6778, 1.6762, 1.6762, 1.6755, 1.6754, 1.6754, 1.6754, 1.7084, 1.7059, 1.7026, 1.7019, 1.7016, 1.7003, 1.699, 1.6972, 1.6939, 1.6932, 1.6926, 1.6923, 1.6921, 1.6919, 1.6911, 1.69, 1.6898, 1.688, 1.6876, 1.6862, 1.6833, 1.6833, 1.6819, 1.6818, 1.6814, 1.6802, 1.6776, 1.6774, 1.6774, 1.677, 1.7533, 1.7523, 1.7475, 1.7475, 1.7468, 1.7457, 1.7457, 1.7444, 1.7426, 1.7426, 1.7411, 1.7361, 1.7342, 1.7326, 1.7322, 1.732, 1.7308, 1.7293, 1.7268, 1.7267, 1.7266, 1.725, 1.7246, 1.7245, 1.7234, 1.7233, 1.7216, 1.7208, 1.7206, 1.7204]}, \"token.table\": {\"Topic\": [2, 2, 2, 4, 4, 4, 2, 5, 4, 4, 1, 1, 1, 1, 2, 3, 5, 5, 3, 2, 2, 5, 1, 4, 4, 5, 5, 5, 5, 1, 1, 2, 2, 2, 5, 3, 5, 2, 1, 2, 4, 4, 4, 1, 2, 4, 4, 4, 1, 1, 2, 3, 3, 3, 5, 4, 4, 2, 2, 4, 1, 1, 1, 4, 3, 3, 1, 1, 1, 1, 1, 5, 2, 2, 2, 2, 5, 5, 5, 2, 5, 5, 5, 3, 3, 3, 3, 3, 5, 5, 1, 1, 3, 5, 3, 3, 3, 4, 5, 5, 2, 3, 1, 3, 3, 3, 2, 2, 2, 4, 2, 5, 2, 4, 1, 1, 1, 1, 3, 1, 4, 5, 4, 5, 1, 1, 3, 3, 3, 2, 3, 3, 3, 2, 3, 3, 4, 4, 5, 2, 1, 5, 4, 4, 4, 4, 5, 4, 2, 4, 3, 5, 2, 3, 3], \"Freq\": [0.9921713603747605, 0.9825406690217476, 0.9815780970748393, 0.9756401445054047, 0.9775810016953018, 0.9786550093973476, 0.9816235110745801, 0.9824057272266407, 0.9857400393257238, 0.9860836900503754, 0.9856345250062154, 0.981278807428387, 0.9668566290759085, 0.9590586340037593, 0.9938709002628682, 0.9688809193639993, 0.9828855490097407, 0.9875504175438118, 0.9521390688630682, 0.9868780028402189, 0.9644021044282372, 0.9840530223987499, 0.9728645515839045, 0.9860648428125638, 0.9561860461675502, 0.9889220449341437, 0.9822458321376782, 0.9753294571674899, 0.9672558376129506, 0.9583641063081905, 0.9879402253423212, 0.9868358175781439, 0.9871880465012567, 0.9799069721992669, 0.9711941538398852, 0.9739191070163649, 0.9381392043141302, 0.9654758615542174, 0.966853532019514, 0.99324395304571, 0.9759094116817, 0.9759094116817, 0.9420216260757952, 0.9935247246136785, 0.9845164908830428, 0.9571573973498672, 0.9672949149292969, 0.9656577787880831, 0.9812714517672086, 0.9935949179900682, 0.9881197823809429, 0.9801828344424479, 0.9539179594495837, 0.9720684559455748, 0.9682453681696223, 0.9661380925064121, 0.9726280392809982, 0.9817963376631845, 0.9757861461590619, 0.9486239290821392, 0.9768051753051117, 0.9836988318715163, 0.9650673876347959, 0.9802875269347107, 0.9890604444548361, 0.9803357600824059, 0.9957430815315172, 0.9856345250062154, 0.981278807428387, 0.9668566290759085, 0.9628992205857301, 0.9854784924164323, 0.9938709002628682, 0.9857626803878207, 0.9794728233143297, 0.9794728233143297, 0.9827868905994098, 0.9827868905994098, 0.9696363608137731, 0.9732793887607135, 0.96489862301851, 0.9841101982952327, 0.9903601753722409, 0.9732036754813493, 0.9780722257239851, 0.9880239216802018, 0.9798838353131826, 0.9777500900629039, 0.9629707385439367, 0.9539102878373674, 0.9768051753051117, 0.9768051753051117, 0.9591599127338419, 0.9607240926109915, 0.971265857049188, 0.971265857049188, 0.971265857049188, 0.974165220545861, 0.9730296031049249, 0.9930762112358817, 0.6895195179282179, 0.30338858788841583, 0.9761027957347773, 0.9966593911391052, 0.9539179594495837, 0.9774257056832069, 0.9868780028402189, 0.9752265321870506, 0.973255050591797, 0.9848238868360748, 0.95776170549999, 0.9551330688912434, 0.9768248716294278, 0.9845541994807244, 0.9780251883939884, 0.9860766546207755, 0.9860766546207755, 0.983884758808353, 0.9683661589965393, 0.9647338522383353, 0.9836674047549349, 0.9822458321376782, 0.9509000963422477, 0.9800449936180887, 0.9785701995989551, 0.9818716636076004, 0.9867675296372735, 0.9867675296372735, 0.9792336266314046, 0.9871880465012567, 0.9854805573263974, 0.9945868762322755, 0.9945868762322755, 0.9825406690217476, 0.9793194365102764, 0.9641388964711615, 0.9538612996225606, 0.959964998275834, 0.9876795439781927, 0.9858181167985832, 0.954390610857193, 0.9898721681141894, 0.9719583628849677, 0.992490562882175, 0.9736772799630862, 0.9835809356332856, 0.9775577512990656, 0.9525359845236235, 0.9904469122349969, 0.9635056481849377, 0.959745608415164, 0.9440159170748217, 0.9868358175781439, 0.9529778061835719, 0.9818396825377249], \"Term\": [\"aapl shares\", \"aapl shares sold\", \"airpods pro\", \"airpods studio\", \"app store\", \"apple acquires\", \"apple airpods\", \"apple buys\", \"apple ceo\", \"apple glass\", \"apple google contact\", \"apple google contact tracing\", \"apple google covid\", \"apple google launch\", \"apple google release\", \"apple homepod\", \"apple ios\", \"apple ipad\", \"apple music\", \"apple nasdaq aapl shares\", \"apple new\", \"apple pay\", \"apple plus\", \"apple podcasts\", \"apple release\", \"apple releases\", \"apple releases ios\", \"apple reopen\", \"apple reopen stores\", \"apple store\", \"apple stores\", \"apple watch series\", \"apple watch series gps\", \"asset management\", \"battery health\", \"best apple\", \"best buy\", \"best iphone\", \"big tech\", \"central park\", \"ceo tim\", \"ceo tim cook\", \"contact tracing api\", \"contact tracing app\", \"contact tracing apps\", \"contact tracing tech\", \"coronavirus contact\", \"coronavirus contact tracing\", \"covid contact\", \"covid contact tracing\", \"covid exposure\", \"covid impact\", \"day sale\", \"defending jacob\", \"dolby atmos\", \"economic times\", \"executive order\", \"exposure notification\", \"exposure notification api\", \"face mask\", \"flower moon\", \"fraggle rock\", \"gal gadot\", \"george floyd\", \"global smartphone\", \"global smartphone sales\", \"google apple\", \"google contact\", \"google contact tracing\", \"google covid\", \"google launch\", \"google pixel\", \"google release\", \"holdings apple\", \"holdings apple nasdaq\", \"holdings apple nasdaq aapl\", \"inch macbook\", \"inch macbook pro\", \"ios app\", \"ios ipados\", \"ios jailbreak\", \"ios update\", \"ipad pro\", \"iphone camera\", \"iphone ipad\", \"iphone iphone\", \"iphone launch\", \"iphone pro\", \"jailbreak ios\", \"jailbreak tool\", \"killers flower\", \"killers flower moon\", \"largest position\", \"little voice\", \"llc sells\", \"llc sells shares\", \"llc sells shares apple\", \"lowest price\", \"machine learning\", \"macos catalina\", \"management llc\", \"management llc\", \"martin scorsese\", \"memorial day\", \"memorial day sale\", \"mythic quest\", \"nasdaq aapl shares\", \"nasdaq aapl shares sold\", \"need know\", \"new apple\", \"new iphone\", \"new jailbreak\", \"notification api\", \"popular smartphone\", \"position apple\", \"position apple nasdaq\", \"position apple nasdaq aapl\", \"powerbeats pro\", \"pro max\", \"refurbished iphone\", \"release date\", \"releases ios\", \"remote work\", \"reopen stores\", \"retail stores\", \"samsung galaxy\", \"sells shares\", \"sells shares apple\", \"sells shares apple nasdaq\", \"series gps\", \"shares apple\", \"shares apple nasdaq\", \"shares apple nasdaq aapl\", \"shares sold\", \"sign apple\", \"smartphone sales\", \"social media\", \"steve jobs\", \"stimulus check\", \"stock holdings\", \"stock position\", \"stores week\", \"streaming service\", \"tech giants\", \"technology news\", \"tim cook\", \"tom hanks\", \"tracing api\", \"tracing apps\", \"tracing tech\", \"unlock iphone\", \"wall street\", \"watch series\", \"wireless earbuds\", \"youtube kids\"]}, \"R\": 30, \"lambda.step\": 0.01, \"plot.opts\": {\"xlab\": \"PC1\", \"ylab\": \"PC2\"}, \"topic.order\": [4, 3, 2, 5, 1]};\n",
       "\n",
       "function LDAvis_load_lib(url, callback){\n",
       "  var s = document.createElement('script');\n",
       "  s.src = url;\n",
       "  s.async = true;\n",
       "  s.onreadystatechange = s.onload = callback;\n",
       "  s.onerror = function(){console.warn(\"failed to load library \" + url);};\n",
       "  document.getElementsByTagName(\"head\")[0].appendChild(s);\n",
       "}\n",
       "\n",
       "if(typeof(LDAvis) !== \"undefined\"){\n",
       "   // already loaded: just create the visualization\n",
       "   !function(LDAvis){\n",
       "       new LDAvis(\"#\" + \"ldavis_el352301404791689498246078295407\", ldavis_el352301404791689498246078295407_data);\n",
       "   }(LDAvis);\n",
       "}else if(typeof define === \"function\" && define.amd){\n",
       "   // require.js is available: use it to load d3/LDAvis\n",
       "   require.config({paths: {d3: \"https://cdnjs.cloudflare.com/ajax/libs/d3/3.5.5/d3.min\"}});\n",
       "   require([\"d3\"], function(d3){\n",
       "      window.d3 = d3;\n",
       "      LDAvis_load_lib(\"https://cdn.rawgit.com/bmabey/pyLDAvis/files/ldavis.v1.0.0.js\", function(){\n",
       "        new LDAvis(\"#\" + \"ldavis_el352301404791689498246078295407\", ldavis_el352301404791689498246078295407_data);\n",
       "      });\n",
       "    });\n",
       "}else{\n",
       "    // require.js not available: dynamically load d3 & LDAvis\n",
       "    LDAvis_load_lib(\"https://cdnjs.cloudflare.com/ajax/libs/d3/3.5.5/d3.min.js\", function(){\n",
       "         LDAvis_load_lib(\"https://cdn.rawgit.com/bmabey/pyLDAvis/files/ldavis.v1.0.0.js\", function(){\n",
       "                 new LDAvis(\"#\" + \"ldavis_el352301404791689498246078295407\", ldavis_el352301404791689498246078295407_data);\n",
       "            })\n",
       "         });\n",
       "}\n",
       "</script>"
      ],
      "text/plain": [
       "PreparedData(topic_coordinates=              x         y  topics  cluster       Freq\n",
       "topic                                                \n",
       "3      0.015557  0.393005       1        1  26.258766\n",
       "2      0.278660 -0.103885       2        1  20.803371\n",
       "1      0.135691 -0.110405       3        1  17.909271\n",
       "4     -0.151998 -0.094122       4        1  17.870614\n",
       "0     -0.277910 -0.084593       5        1  17.157977, topic_info=                   Term       Freq      Total Category  logprob  loglift\n",
       "75       apple releases  81.000000  81.000000  Default  30.0000  30.0000\n",
       "325        memorial day  80.000000  80.000000  Default  29.0000  29.0000\n",
       "251            ipad pro  74.000000  74.000000  Default  28.0000  28.0000\n",
       "417        shares apple  71.000000  71.000000  Default  27.0000  27.0000\n",
       "92   apple watch series  77.000000  77.000000  Default  26.0000  26.0000\n",
       "..                  ...        ...        ...      ...      ...      ...\n",
       "352       new jailbreak  19.124141  19.892516   Topic5  -4.5136   1.7233\n",
       "484         wall street  18.298879  19.067475   Topic5  -4.5577   1.7216\n",
       "105            best buy  18.400359  19.186918   Topic5  -4.5522   1.7208\n",
       "159         dolby atmos  17.823144  18.590329   Topic5  -4.5841   1.7206\n",
       "243             ios app  17.794982  18.563660   Topic5  -4.5857   1.7204\n",
       "\n",
       "[184 rows x 6 columns], token_table=      Topic      Freq              Term\n",
       "term                                   \n",
       "2         2  0.992171       aapl shares\n",
       "3         2  0.982541  aapl shares sold\n",
       "7         2  0.981578       airpods pro\n",
       "8         4  0.975640    airpods studio\n",
       "12        4  0.977581         app store\n",
       "...     ...       ...               ...\n",
       "476       3  0.959746     unlock iphone\n",
       "484       5  0.944016       wall street\n",
       "485       2  0.986836      watch series\n",
       "493       3  0.952978  wireless earbuds\n",
       "497       3  0.981840      youtube kids\n",
       "\n",
       "[155 rows x 3 columns], R=30, lambda_step=0.01, plot_opts={'xlab': 'PC1', 'ylab': 'PC2'}, topic_order=[4, 3, 2, 5, 1])"
      ]
     },
     "execution_count": 61,
     "metadata": {},
     "output_type": "execute_result"
    }
   ],
   "source": [
    "pyLDAvis.sklearn.prepare(lda_tf, dtm_tf, tf_vectorizer)"
   ]
  },
  {
   "cell_type": "markdown",
   "metadata": {},
   "source": [
    "**Cluster 2-3 and 4-5 overlapped**"
   ]
  },
  {
   "cell_type": "markdown",
   "metadata": {},
   "source": [
    "## **Declustering**"
   ]
  },
  {
   "cell_type": "code",
   "execution_count": 90,
   "metadata": {},
   "outputs": [
    {
     "name": "stdout",
     "output_type": "stream",
     "text": [
      "(8020, 1000)\n"
     ]
    }
   ],
   "source": [
    "tf_vectorizer1 = CountVectorizer(strip_accents = 'unicode',\n",
    "                                stop_words = 'english',\n",
    "                                lowercase = True,\n",
    "                                #tokenizer=tokenize_titles,\n",
    "                                max_features=df1['max_features'][1],\n",
    "                                token_pattern = r'\\b[a-zA-Z]{3,}\\b',\n",
    "                                max_df = df['max_df'][2],  #change parameter\n",
    "                                min_df = df['min_df'][2], #change parameter\n",
    "                                ngram_range=(2,4))\n",
    "dtm_tf1 = tf_vectorizer1.fit_transform(feed_titles)\n",
    "print(dtm_tf1.shape)"
   ]
  },
  {
   "cell_type": "code",
   "execution_count": 91,
   "metadata": {},
   "outputs": [
    {
     "data": {
      "text/plain": [
       "LatentDirichletAllocation(learning_method='online', max_iter=300,\n",
       "                          n_components=5, random_state=0)"
      ]
     },
     "execution_count": 91,
     "metadata": {},
     "output_type": "execute_result"
    }
   ],
   "source": [
    "lda_tf1 = LatentDirichletAllocation(n_components=5, \n",
    "                                   max_iter=df['max_iter'][2], #change parameter\n",
    "                                   learning_method='online', \n",
    "                                   random_state = 0)\n",
    "lda_tf1.fit(dtm_tf1)"
   ]
  },
  {
   "cell_type": "code",
   "execution_count": 92,
   "metadata": {},
   "outputs": [
    {
     "name": "stdout",
     "output_type": "stream",
     "text": [
      "Topic #0:\n",
      "apple closes | close stores | capital partners llc | capital partners | apple acquires machine learning | cider vinegar | hackers release | defending jacob | galaxy tab | apple confirms\n",
      "Topic #1:\n",
      "doubles price | google covid | google covid contact | google covid contact tracing | converter multilingual | google contact tracing | google contact tracing app | conservative bias | google exposure notification | google contact tracing tech\n",
      "Topic #2:\n",
      "apple google api | ipad ipad | aapl shares | escobar brother sues | apple car | adc awards | apple smart keyboard ipad | aapl stake | buds air | app gets\n",
      "Topic #3:\n",
      "apple memorial day | best iphone deals | apple plans | apple plus | goes live amid debate | firmware ios | dolby atmos music | flower moon | fixes bug | covid apple\n",
      "Topic #4:\n",
      "austin campus | apple channels | gal gadot | improve siri | inch review | executive order social media | amid protests | ios apple | fiona apple | apple new\n"
     ]
    }
   ],
   "source": [
    "n_top_words = 10\n",
    "tf_feature_names = tf_vectorizer1.get_feature_names()\n",
    "\n",
    "topics = dict()\n",
    "for topic_idx, topic in enumerate(lda_tf.components_):\n",
    "    topics[topic_idx] = [tf_feature_names[i] for i in topic.argsort()[:-n_top_words - 1:-1]]\n",
    "    print(\"Topic #%d:\" % topic_idx)\n",
    "    print(\" | \".join([tf_feature_names[i] for i in topic.argsort()[:-n_top_words - 1:-1]]))"
   ]
  },
  {
   "cell_type": "code",
   "execution_count": 93,
   "metadata": {},
   "outputs": [
    {
     "data": {
      "text/html": [
       "\n",
       "<link rel=\"stylesheet\" type=\"text/css\" href=\"https://cdn.rawgit.com/bmabey/pyLDAvis/files/ldavis.v1.0.0.css\">\n",
       "\n",
       "\n",
       "<div id=\"ldavis_el352301404782153299365813329644\"></div>\n",
       "<script type=\"text/javascript\">\n",
       "\n",
       "var ldavis_el352301404782153299365813329644_data = {\"mdsDat\": {\"x\": [-0.3149719181153118, 0.1953176216643891, 0.07725658505418918, 0.1598812638391205, -0.11748355244238705], \"y\": [0.0002779514696108561, 0.299006085794278, -0.08813749816299091, -0.27512737567888323, 0.06398083657798524], \"topics\": [1, 2, 3, 4, 5], \"cluster\": [1, 1, 1, 1, 1], \"Freq\": [23.10521015318047, 20.38585248641283, 19.318631399229496, 18.93750734388856, 18.25279861728864]}, \"tinfo\": {\"Term\": [\"apple releases\", \"contact tracing app\", \"google apple\", \"ipad pro\", \"shares apple\", \"memorial day\", \"samsung galaxy\", \"apple watch series\", \"watch series\", \"shares apple nasdaq aapl\", \"shares apple nasdaq\", \"aapl shares\", \"covid contact\", \"covid contact tracing\", \"apple nasdaq aapl shares\", \"nasdaq aapl shares\", \"george floyd\", \"apple airpods\", \"airpods pro\", \"iphone pro\", \"exposure notification\", \"inch macbook pro\", \"inch macbook\", \"apple ios\", \"central park\", \"martin scorsese\", \"apple podcasts\", \"sells shares\", \"sells shares apple\", \"ios update\", \"contact tracing app\", \"google apple\", \"apple watch series\", \"watch series\", \"covid contact\", \"covid contact tracing\", \"google release\", \"apple google release\", \"position apple\", \"position apple nasdaq aapl\", \"position apple nasdaq\", \"holdings apple\", \"holdings apple nasdaq\", \"holdings apple nasdaq aapl\", \"tech giants\", \"fraggle rock\", \"apple google contact\", \"google contact\", \"new apple\", \"google contact tracing\", \"apple google contact tracing\", \"tracing tech\", \"stock position\", \"apple store\", \"stock holdings\", \"google launch\", \"llc million\", \"apple google launch\", \"contact tracing tech\", \"asset management\", \"advisors llc\", \"memorial day\", \"exposure notification\", \"notification api\", \"sign apple\", \"exposure notification api\", \"release date\", \"apple reopen\", \"iphone iphone\", \"mythic quest\", \"big tech\", \"tracing apps\", \"stores week\", \"covid exposure\", \"best iphone\", \"apple plus\", \"contact tracing apps\", \"reopen stores\", \"google pixel\", \"airpods studio\", \"apple buys\", \"apple macbook\", \"stake apple nasdaq\", \"stake apple nasdaq aapl\", \"stake apple\", \"pablo escobar\", \"apple reopen stores\", \"ios jailbreak\", \"apple homepod\", \"streaming service\", \"best apple\", \"aapl shares\", \"apple nasdaq aapl shares\", \"nasdaq aapl shares\", \"apple airpods\", \"airpods pro\", \"central park\", \"martin scorsese\", \"apple podcasts\", \"iphone ipad\", \"shares sold\", \"aapl shares sold\", \"killers flower moon\", \"flower moon\", \"killers flower\", \"nasdaq aapl shares sold\", \"powerbeats pro\", \"apple glass\", \"refurbished iphone\", \"largest position\", \"little voice\", \"retail stores\", \"steve jobs\", \"leonardo dicaprio\", \"apple pay\", \"face mask\", \"unlock iphone\", \"apple release\", \"galaxy note\", \"jailbreak ios\", \"price target\", \"apple releases\", \"ipad pro\", \"inch macbook pro\", \"inch macbook\", \"apple ios\", \"stimulus check\", \"ios update\", \"macos catalina\", \"releases ios\", \"apple releases ios\", \"need know\", \"ios ipados\", \"apple stores\", \"defending jacob\", \"apple new\", \"apple ipad\", \"popular smartphone\", \"new iphone\", \"coronavirus contact\", \"social media\", \"coronavirus contact tracing\", \"tracing api\", \"battery health\", \"new jailbreak\", \"contact tracing api\", \"wall street\", \"youtube kids\", \"best buy\", \"ios app\", \"inch ipad\", \"apple acquires\", \"shares apple\", \"samsung galaxy\", \"shares apple nasdaq aapl\", \"shares apple nasdaq\", \"george floyd\", \"iphone pro\", \"sells shares\", \"sells shares apple\", \"sells shares apple nasdaq\", \"tim cook\", \"google covid\", \"apple google covid\", \"smartphone sales\", \"gal gadot\", \"global smartphone\", \"hedy lamarr\", \"global smartphone sales\", \"app store\", \"covid tracing\", \"iphone launch\", \"motley fool\", \"tracing technology\", \"covid impact\", \"apple ceo\", \"business insider\", \"iphone models\", \"galaxy watch\", \"pro max\", \"llc sells shares apple\", \"llc sells shares\", \"llc sells\"], \"Freq\": [79.0, 90.0, 88.0, 73.0, 69.0, 74.0, 64.0, 75.0, 75.0, 62.0, 62.0, 60.0, 68.0, 66.0, 57.0, 57.0, 54.0, 56.0, 54.0, 50.0, 53.0, 49.0, 49.0, 47.0, 46.0, 46.0, 45.0, 43.0, 43.0, 44.0, 89.61542907600308, 87.99723553417698, 74.86705202427423, 74.86705202427423, 67.602628350275, 65.72771021548094, 50.19076872874511, 50.19076872874511, 48.35411045283143, 42.77427210389326, 42.77427210389326, 40.08242451224662, 37.327988287269086, 37.327988287269086, 35.551938917851686, 34.53106789046826, 34.247127070267254, 34.247127070267254, 32.898896424206136, 32.33822434618572, 32.33822434618572, 28.614336036136272, 27.063868437949353, 26.973612174704297, 26.144570565774856, 25.508165515721185, 25.261242739450914, 24.55650295358576, 23.885587688821218, 24.279293396868464, 24.34933511516473, 73.43992559608432, 52.365548726093785, 38.06990589981649, 37.419882899096315, 37.14172371502055, 35.866042829181495, 33.677385347950356, 32.18391720264984, 29.525934456459204, 29.049348719798715, 29.021659095448758, 27.353612278240444, 26.104519597137987, 25.956316027225817, 25.69948416340683, 25.34533501906976, 23.72535496158739, 23.51590240686578, 22.888046979887513, 22.720446678147468, 21.920172959061098, 21.086342985707677, 21.086342985707677, 21.086342985707677, 20.852390303307466, 20.088345452475973, 20.121754515758436, 19.341864634286075, 19.20736643930235, 19.258964875645987, 60.10915549075882, 56.40848538013929, 56.40848538013929, 55.65351684339826, 53.66443266405728, 46.20492770542601, 45.76420741435476, 44.69721743651724, 39.579554039480946, 38.54715746868212, 38.54715746868212, 38.32715687267243, 38.32715687267243, 38.32715687267243, 35.782260389367, 34.73214851524806, 31.12171923413462, 27.06771388751271, 25.379390766461263, 24.98495488315339, 24.471774429697675, 23.05451803382587, 22.524758300470783, 22.536059509861648, 22.270683521704655, 21.188792804982786, 21.1354341030703, 20.044835488912273, 19.888704642116725, 19.769723429764724, 79.23988833544941, 72.25956281926045, 49.048096126051846, 49.048096126051846, 46.75533599509339, 43.659691529170175, 43.785166593151786, 40.57457029927601, 37.0116366193713, 37.0116366193713, 36.148799201452775, 35.169247444518874, 32.06797506272616, 28.487157288943212, 27.42628016914047, 25.94446985225089, 25.022142211823567, 24.600467244515407, 24.407035427311815, 23.93703634328815, 23.48014148911797, 21.78750489462, 20.379275744834274, 18.64794521585604, 18.068108723623972, 17.824538199769922, 17.57834633191459, 17.887776831876835, 17.33758163696541, 17.12889839583534, 17.504475358124722, 68.63315139563669, 64.1042095641224, 62.07476057358881, 62.07476057358881, 54.12273700866129, 50.179779951429964, 42.84755258504045, 42.84755258504045, 38.170786079660914, 35.911956146579065, 30.339031693062456, 30.339031693062456, 29.883769477751844, 27.469456912360698, 26.13740730551429, 23.704538431820882, 23.36127617416297, 21.105388964938243, 19.337029775812375, 19.192139584421337, 19.193463882176058, 18.58608590159151, 18.205094239298504, 18.042872079585383, 17.776902474807397, 16.988314083650707, 16.480946888082855, 16.389906236376596, 16.35171726469346, 16.35171726469346, 16.35171726469346], \"Total\": [79.0, 90.0, 88.0, 73.0, 69.0, 74.0, 64.0, 75.0, 75.0, 62.0, 62.0, 60.0, 68.0, 66.0, 57.0, 57.0, 54.0, 56.0, 54.0, 50.0, 53.0, 49.0, 49.0, 47.0, 46.0, 46.0, 45.0, 43.0, 43.0, 44.0, 90.36905656338651, 88.75333211388674, 75.6148643406466, 75.6148643406466, 68.35268884441535, 66.4777717494955, 50.940080885423825, 50.940080885423825, 49.10121942706127, 43.5213745609998, 43.5213745609998, 40.82950883698082, 38.0750810151986, 38.0750810151986, 36.30446578382538, 35.28007514128726, 34.99529510827295, 34.99529510827295, 33.65481765129045, 33.08628325405376, 33.08628325405376, 29.36317428284496, 27.810948484887994, 27.723737780047266, 26.8915481645201, 26.256594647749058, 26.014861423313, 25.304986518929528, 24.633904376567262, 25.046200479413425, 25.14055927655378, 74.19599561922438, 53.12300512733161, 38.82714510468105, 38.17266876882824, 37.89875054432474, 36.621531535821056, 34.43042512023485, 32.941239579114374, 30.278206438291885, 29.803863873077013, 29.777808211084935, 28.107386394678695, 26.861080684971167, 26.71252220183588, 26.465053493241115, 26.100429829908236, 24.47768561892171, 24.268520267241826, 23.642386364092715, 23.474475376876807, 22.675900361609916, 21.839140070151235, 21.839140070151235, 21.839140070151235, 21.60469080146944, 20.840541952942733, 20.878138054574286, 20.094125086377733, 19.959867943231725, 20.015837365639612, 60.85496610798582, 57.154177506787235, 57.154177506787235, 56.404506494541025, 54.41467785610779, 46.950829681424274, 46.510001982935535, 45.442784862827935, 40.328111528332876, 39.29298966656082, 39.29298966656082, 39.072649688886536, 39.072649688886536, 39.072649688886536, 36.527924719059186, 35.47866987406833, 31.86878893937076, 27.815214995746896, 26.12619917149004, 25.730683378254664, 25.238321034328443, 23.801300170870032, 23.270176768431387, 23.282810373110838, 23.024790260110457, 21.93729001737262, 21.9027078709648, 20.797735124292796, 20.638160210474645, 20.516245414344045, 79.98959475228679, 73.01087702482698, 49.797600161008134, 49.797600161008134, 47.50740659252791, 44.408717119867966, 44.538897680466164, 41.32385475972898, 37.76144161597185, 37.76144161597185, 36.90117275421661, 35.92001471506542, 32.8210061804545, 29.237229819433114, 28.177160507434383, 26.694807267082034, 25.771691625081814, 25.351670617608097, 25.158631222118427, 24.686129570769385, 24.231847428418444, 22.54510688510397, 21.128210911111633, 19.401299895708082, 18.826303968600072, 18.577647448504024, 18.32824791408597, 18.654280653526854, 18.08856825892756, 17.878805063034953, 18.293946121204186, 69.37586696992622, 64.85103239510298, 62.8174257974741, 62.8174257974741, 54.866089531043635, 50.92449361357679, 43.59017577216479, 43.59017577216479, 38.913388261832196, 36.655292726310144, 31.08467104938794, 31.08467104938794, 30.626379020997724, 28.212952475318698, 26.880017712392096, 24.447299042094905, 24.10388507785355, 21.85138690824615, 20.084070565502508, 19.937100325580413, 19.940226208299386, 19.33773927985299, 18.947736502297317, 18.78549591235511, 18.525748790583442, 17.749722670444076, 17.223655682548625, 17.133270002904904, 17.094501200722192, 17.094501200722192, 17.094501200722192], \"Category\": [\"Default\", \"Default\", \"Default\", \"Default\", \"Default\", \"Default\", \"Default\", \"Default\", \"Default\", \"Default\", \"Default\", \"Default\", \"Default\", \"Default\", \"Default\", \"Default\", \"Default\", \"Default\", \"Default\", \"Default\", \"Default\", \"Default\", \"Default\", \"Default\", \"Default\", \"Default\", \"Default\", \"Default\", \"Default\", \"Default\", \"Topic1\", \"Topic1\", \"Topic1\", \"Topic1\", \"Topic1\", \"Topic1\", \"Topic1\", \"Topic1\", \"Topic1\", \"Topic1\", \"Topic1\", \"Topic1\", \"Topic1\", \"Topic1\", \"Topic1\", \"Topic1\", \"Topic1\", \"Topic1\", \"Topic1\", \"Topic1\", \"Topic1\", \"Topic1\", \"Topic1\", \"Topic1\", \"Topic1\", \"Topic1\", \"Topic1\", \"Topic1\", \"Topic1\", \"Topic1\", \"Topic1\", \"Topic2\", \"Topic2\", \"Topic2\", \"Topic2\", \"Topic2\", \"Topic2\", \"Topic2\", \"Topic2\", \"Topic2\", \"Topic2\", \"Topic2\", \"Topic2\", \"Topic2\", \"Topic2\", \"Topic2\", \"Topic2\", \"Topic2\", \"Topic2\", \"Topic2\", \"Topic2\", \"Topic2\", \"Topic2\", \"Topic2\", \"Topic2\", \"Topic2\", \"Topic2\", \"Topic2\", \"Topic2\", \"Topic2\", \"Topic2\", \"Topic3\", \"Topic3\", \"Topic3\", \"Topic3\", \"Topic3\", \"Topic3\", \"Topic3\", \"Topic3\", \"Topic3\", \"Topic3\", \"Topic3\", \"Topic3\", \"Topic3\", \"Topic3\", \"Topic3\", \"Topic3\", \"Topic3\", \"Topic3\", \"Topic3\", \"Topic3\", \"Topic3\", \"Topic3\", \"Topic3\", \"Topic3\", \"Topic3\", \"Topic3\", \"Topic3\", \"Topic3\", \"Topic3\", \"Topic3\", \"Topic4\", \"Topic4\", \"Topic4\", \"Topic4\", \"Topic4\", \"Topic4\", \"Topic4\", \"Topic4\", \"Topic4\", \"Topic4\", \"Topic4\", \"Topic4\", \"Topic4\", \"Topic4\", \"Topic4\", \"Topic4\", \"Topic4\", \"Topic4\", \"Topic4\", \"Topic4\", \"Topic4\", \"Topic4\", \"Topic4\", \"Topic4\", \"Topic4\", \"Topic4\", \"Topic4\", \"Topic4\", \"Topic4\", \"Topic4\", \"Topic4\", \"Topic5\", \"Topic5\", \"Topic5\", \"Topic5\", \"Topic5\", \"Topic5\", \"Topic5\", \"Topic5\", \"Topic5\", \"Topic5\", \"Topic5\", \"Topic5\", \"Topic5\", \"Topic5\", \"Topic5\", \"Topic5\", \"Topic5\", \"Topic5\", \"Topic5\", \"Topic5\", \"Topic5\", \"Topic5\", \"Topic5\", \"Topic5\", \"Topic5\", \"Topic5\", \"Topic5\", \"Topic5\", \"Topic5\", \"Topic5\", \"Topic5\"], \"logprob\": [30.0, 29.0, 28.0, 27.0, 26.0, 25.0, 24.0, 23.0, 22.0, 21.0, 20.0, 19.0, 18.0, 17.0, 16.0, 15.0, 14.0, 13.0, 12.0, 11.0, 10.0, 9.0, 8.0, 7.0, 6.0, 5.0, 4.0, 3.0, 2.0, 1.0, -3.5814, -3.5997, -3.7613, -3.7613, -3.8633, -3.8915, -4.1611, -4.1611, -4.1984, -4.321, -4.321, -4.386, -4.4572, -4.4572, -4.506, -4.5351, -4.5434, -4.5434, -4.5835, -4.6007, -4.6007, -4.7231, -4.7788, -4.7821, -4.8133, -4.838, -4.8477, -4.876, -4.9037, -4.8874, -4.8845, -3.6553, -3.9935, -4.3123, -4.3296, -4.337, -4.372, -4.4349, -4.4803, -4.5665, -4.5828, -4.5837, -4.6429, -4.6896, -4.6953, -4.7053, -4.7192, -4.7852, -4.7941, -4.8211, -4.8285, -4.8644, -4.9031, -4.9031, -4.9031, -4.9143, -4.9516, -4.95, -4.9895, -4.9965, -4.9938, -3.8018, -3.8654, -3.8654, -3.8788, -3.9152, -4.0649, -4.0745, -4.0981, -4.2197, -4.2461, -4.2461, -4.2518, -4.2518, -4.2518, -4.3205, -4.3503, -4.4601, -4.5996, -4.664, -4.6797, -4.7005, -4.7601, -4.7834, -4.7829, -4.7947, -4.8445, -4.847, -4.9, -4.9078, -4.9138, -3.5056, -3.5978, -3.9853, -3.9853, -4.0331, -4.1016, -4.0988, -4.1749, -4.2668, -4.2668, -4.2904, -4.3179, -4.4102, -4.5286, -4.5666, -4.6221, -4.6583, -4.6753, -4.6832, -4.7026, -4.7219, -4.7967, -4.8635, -4.9523, -4.9839, -4.9975, -5.0114, -4.9939, -5.0252, -5.0373, -5.0156, -3.6125, -3.6807, -3.7129, -3.7129, -3.85, -3.9256, -4.0836, -4.0836, -4.1992, -4.2602, -4.4288, -4.4288, -4.4439, -4.5282, -4.5779, -4.6756, -4.6902, -4.7917, -4.8792, -4.8867, -4.8867, -4.9188, -4.9395, -4.9485, -4.9633, -5.0087, -5.039, -5.0446, -5.0469, -5.0469, -5.0469], \"loglift\": [30.0, 29.0, 28.0, 27.0, 26.0, 25.0, 24.0, 23.0, 22.0, 21.0, 20.0, 19.0, 18.0, 17.0, 16.0, 15.0, 14.0, 13.0, 12.0, 11.0, 10.0, 9.0, 8.0, 7.0, 6.0, 5.0, 4.0, 3.0, 2.0, 1.0, 1.4567, 1.4566, 1.4552, 1.4552, 1.4541, 1.4538, 1.4503, 1.4503, 1.4498, 1.4478, 1.4478, 1.4466, 1.4453, 1.4453, 1.4442, 1.4437, 1.4435, 1.4435, 1.4424, 1.4422, 1.4422, 1.4393, 1.4379, 1.4377, 1.4369, 1.4362, 1.4357, 1.4351, 1.4343, 1.434, 1.4331, 1.5801, 1.576, 1.5706, 1.5704, 1.5702, 1.5695, 1.5682, 1.5671, 1.5652, 1.5647, 1.5646, 1.5631, 1.5618, 1.5616, 1.561, 1.561, 1.5591, 1.5588, 1.5579, 1.5577, 1.5564, 1.5553, 1.5553, 1.5553, 1.5549, 1.5536, 1.5534, 1.5522, 1.5519, 1.5518, 1.6318, 1.631, 1.631, 1.6307, 1.6302, 1.6281, 1.6279, 1.6276, 1.6254, 1.6249, 1.6249, 1.6248, 1.6248, 1.6248, 1.6235, 1.6228, 1.6204, 1.6169, 1.6151, 1.6147, 1.6133, 1.6122, 1.6115, 1.6115, 1.6108, 1.6094, 1.6084, 1.6072, 1.6071, 1.607, 1.6546, 1.6537, 1.6489, 1.6489, 1.6481, 1.647, 1.647, 1.6457, 1.644, 1.644, 1.6434, 1.6429, 1.6408, 1.638, 1.637, 1.6355, 1.6345, 1.6339, 1.6337, 1.6332, 1.6325, 1.6298, 1.6279, 1.6244, 1.6229, 1.6226, 1.6223, 1.6221, 1.6216, 1.6212, 1.6199, 1.6901, 1.6893, 1.689, 1.689, 1.6872, 1.6861, 1.6837, 1.6837, 1.6816, 1.6804, 1.6766, 1.6766, 1.6763, 1.6741, 1.6728, 1.67, 1.6696, 1.6661, 1.6629, 1.6628, 1.6627, 1.6612, 1.6609, 1.6605, 1.6596, 1.657, 1.6568, 1.6565, 1.6564, 1.6564, 1.6564]}, \"token.table\": {\"Topic\": [3, 3, 1, 3, 2, 5, 4, 3, 2, 5, 3, 1, 1, 5, 1, 1, 2, 4, 4, 2, 3, 4, 3, 2, 3, 3, 4, 4, 2, 2, 1, 4, 1, 1, 4, 2, 4, 2, 2, 5, 3, 4, 1, 2, 1, 4, 4, 1, 1, 2, 5, 5, 4, 2, 2, 3, 3, 1, 5, 3, 5, 5, 5, 5, 1, 1, 1, 5, 1, 2, 1, 5, 1, 1, 1, 4, 4, 4, 4, 4, 2, 4, 4, 3, 2, 5, 5, 5, 3, 3, 3, 3, 3, 3, 1, 5, 5, 5, 4, 3, 2, 5, 2, 3, 3, 4, 1, 4, 4, 2, 2, 4, 1, 1, 1, 3, 3, 5, 3, 2, 4, 2, 3, 5, 5, 5, 5, 5, 5, 5, 3, 2, 5, 4, 2, 2, 2, 3, 4, 1, 1, 2, 2, 1, 5, 4, 2, 1, 5, 3, 4, 1, 4], \"Freq\": [0.9859507586206079, 0.9925434621023465, 0.9546327007284412, 0.9923793014597211, 0.9728290387357703, 0.9610373972223769, 0.983932054940105, 0.9928284720551509, 0.9797876046531723, 0.9581860433166157, 0.9727385643356703, 0.9715591737348241, 0.9671681691862241, 0.9651059183587759, 0.9879475723608316, 0.9815453593892345, 0.9455500012230209, 0.9893194213508655, 0.9739721939128283, 0.9701930088406011, 0.9798058942121917, 0.9582228838450987, 0.9878532544577413, 0.9824276382679565, 0.9902562119781059, 0.9587855585581968, 0.9876284564842291, 0.9798354728160118, 0.9874986986442439, 0.9596679417051318, 0.9738946535352048, 0.9749853439611054, 0.9918684726077583, 0.9582291741107262, 0.946601682657461, 0.9492483203633809, 0.9649259778128645, 0.9733262850863663, 0.973028199413997, 0.9716206455929771, 0.9797483944825695, 0.956109071117823, 0.9959161180007712, 0.9578386318892241, 0.9742669953216894, 0.9539469690584833, 0.9491641142072491, 0.9948401613692456, 0.9928130601113427, 0.9679431853442537, 0.9499815451738834, 0.9460233640403273, 0.9576830695974226, 0.9788602861483484, 0.976285483520793, 0.9554918742566847, 0.9725473010551514, 0.9920613791165229, 0.9570072477745881, 0.9616431731856705, 0.9289549381907083, 0.9842144840566122, 0.9672612673917103, 0.954203022695798, 0.9915120695083304, 0.9715591737348241, 0.9671681691862241, 0.9651059183587759, 0.9902274209130522, 0.9889354495335968, 0.9815453593892345, 0.9817035394656597, 0.9796835950123038, 0.9717641831209906, 0.9717641831209906, 0.9508465437182985, 0.9839831606657893, 0.9839831606657893, 0.9398200983435878, 0.9743871286700907, 0.9579398291035875, 0.987900515986445, 0.9861544325171818, 0.9918639500859752, 0.9714267103745803, 0.9529971605560884, 0.9577614431298989, 0.9818457966299675, 0.9690786289104029, 0.9725473010551514, 0.9725473010551514, 0.9568938763691661, 0.9883895695713875, 0.97160264391298, 0.9609891666613476, 0.9359734930039402, 0.9359734930039402, 0.9359734930039402, 0.9921630070182953, 0.9890345740444678, 0.9838805907348119, 0.9528477661949466, 0.9908116605632212, 0.9798058942121917, 0.9855473662103851, 0.9755787502955815, 0.9805431228873307, 0.9861283059837547, 0.9793158243073776, 0.9786967313087016, 0.9720111337382198, 0.9700566173028867, 0.9775724627634329, 0.9880202643813779, 0.9880202643813779, 0.9865082350672285, 0.9748372373249586, 0.9338555919148673, 0.9706917600359535, 0.9830282484168335, 0.9798354728160118, 0.980484853578132, 0.9509348885512584, 0.9868771187801901, 0.9864608077001227, 0.9864608077001227, 0.9765276604626053, 0.9945821654367338, 0.9869872764269342, 0.9869872764269342, 0.9925434621023465, 0.9692798851468871, 0.9795477284282196, 0.9722058669099013, 0.9615763227189457, 0.9615763227189457, 0.9615763227189457, 0.9663337647474095, 0.9907964664062519, 0.9668465289143754, 0.9708406750194568, 0.9606015878129336, 0.9519101055196505, 0.9916135445804845, 0.9821228347239527, 0.9758214991890709, 0.9738796016962931, 0.9876316409340955, 0.9825347071358613, 0.9572741201565753, 0.9689063187303332, 0.9918684726077583, 0.9820906004968593], \"Term\": [\"aapl shares\", \"aapl shares sold\", \"advisors llc\", \"airpods pro\", \"airpods studio\", \"app store\", \"apple acquires\", \"apple airpods\", \"apple buys\", \"apple ceo\", \"apple glass\", \"apple google contact\", \"apple google contact tracing\", \"apple google covid\", \"apple google launch\", \"apple google release\", \"apple homepod\", \"apple ios\", \"apple ipad\", \"apple macbook\", \"apple nasdaq aapl shares\", \"apple new\", \"apple pay\", \"apple plus\", \"apple podcasts\", \"apple release\", \"apple releases\", \"apple releases ios\", \"apple reopen\", \"apple reopen stores\", \"apple store\", \"apple stores\", \"apple watch series\", \"asset management\", \"battery health\", \"best apple\", \"best buy\", \"best iphone\", \"big tech\", \"business insider\", \"central park\", \"contact tracing api\", \"contact tracing app\", \"contact tracing apps\", \"contact tracing tech\", \"coronavirus contact\", \"coronavirus contact tracing\", \"covid contact\", \"covid contact tracing\", \"covid exposure\", \"covid impact\", \"covid tracing\", \"defending jacob\", \"exposure notification\", \"exposure notification api\", \"face mask\", \"flower moon\", \"fraggle rock\", \"gal gadot\", \"galaxy note\", \"galaxy watch\", \"george floyd\", \"global smartphone\", \"global smartphone sales\", \"google apple\", \"google contact\", \"google contact tracing\", \"google covid\", \"google launch\", \"google pixel\", \"google release\", \"hedy lamarr\", \"holdings apple\", \"holdings apple nasdaq\", \"holdings apple nasdaq aapl\", \"inch ipad\", \"inch macbook\", \"inch macbook pro\", \"ios app\", \"ios ipados\", \"ios jailbreak\", \"ios update\", \"ipad pro\", \"iphone ipad\", \"iphone iphone\", \"iphone launch\", \"iphone models\", \"iphone pro\", \"jailbreak ios\", \"killers flower\", \"killers flower moon\", \"largest position\", \"leonardo dicaprio\", \"little voice\", \"llc million\", \"llc sells\", \"llc sells shares\", \"llc sells shares apple\", \"macos catalina\", \"martin scorsese\", \"memorial day\", \"motley fool\", \"mythic quest\", \"nasdaq aapl shares\", \"nasdaq aapl shares sold\", \"need know\", \"new apple\", \"new iphone\", \"new jailbreak\", \"notification api\", \"pablo escobar\", \"popular smartphone\", \"position apple\", \"position apple nasdaq\", \"position apple nasdaq aapl\", \"powerbeats pro\", \"price target\", \"pro max\", \"refurbished iphone\", \"release date\", \"releases ios\", \"reopen stores\", \"retail stores\", \"samsung galaxy\", \"sells shares\", \"sells shares apple\", \"sells shares apple nasdaq\", \"shares apple\", \"shares apple nasdaq\", \"shares apple nasdaq aapl\", \"shares sold\", \"sign apple\", \"smartphone sales\", \"social media\", \"stake apple\", \"stake apple nasdaq\", \"stake apple nasdaq aapl\", \"steve jobs\", \"stimulus check\", \"stock holdings\", \"stock position\", \"stores week\", \"streaming service\", \"tech giants\", \"tim cook\", \"tracing api\", \"tracing apps\", \"tracing tech\", \"tracing technology\", \"unlock iphone\", \"wall street\", \"watch series\", \"youtube kids\"]}, \"R\": 30, \"lambda.step\": 0.01, \"plot.opts\": {\"xlab\": \"PC1\", \"ylab\": \"PC2\"}, \"topic.order\": [2, 3, 1, 5, 4]};\n",
       "\n",
       "function LDAvis_load_lib(url, callback){\n",
       "  var s = document.createElement('script');\n",
       "  s.src = url;\n",
       "  s.async = true;\n",
       "  s.onreadystatechange = s.onload = callback;\n",
       "  s.onerror = function(){console.warn(\"failed to load library \" + url);};\n",
       "  document.getElementsByTagName(\"head\")[0].appendChild(s);\n",
       "}\n",
       "\n",
       "if(typeof(LDAvis) !== \"undefined\"){\n",
       "   // already loaded: just create the visualization\n",
       "   !function(LDAvis){\n",
       "       new LDAvis(\"#\" + \"ldavis_el352301404782153299365813329644\", ldavis_el352301404782153299365813329644_data);\n",
       "   }(LDAvis);\n",
       "}else if(typeof define === \"function\" && define.amd){\n",
       "   // require.js is available: use it to load d3/LDAvis\n",
       "   require.config({paths: {d3: \"https://cdnjs.cloudflare.com/ajax/libs/d3/3.5.5/d3.min\"}});\n",
       "   require([\"d3\"], function(d3){\n",
       "      window.d3 = d3;\n",
       "      LDAvis_load_lib(\"https://cdn.rawgit.com/bmabey/pyLDAvis/files/ldavis.v1.0.0.js\", function(){\n",
       "        new LDAvis(\"#\" + \"ldavis_el352301404782153299365813329644\", ldavis_el352301404782153299365813329644_data);\n",
       "      });\n",
       "    });\n",
       "}else{\n",
       "    // require.js not available: dynamically load d3 & LDAvis\n",
       "    LDAvis_load_lib(\"https://cdnjs.cloudflare.com/ajax/libs/d3/3.5.5/d3.min.js\", function(){\n",
       "         LDAvis_load_lib(\"https://cdn.rawgit.com/bmabey/pyLDAvis/files/ldavis.v1.0.0.js\", function(){\n",
       "                 new LDAvis(\"#\" + \"ldavis_el352301404782153299365813329644\", ldavis_el352301404782153299365813329644_data);\n",
       "            })\n",
       "         });\n",
       "}\n",
       "</script>"
      ],
      "text/plain": [
       "PreparedData(topic_coordinates=              x         y  topics  cluster       Freq\n",
       "topic                                                \n",
       "1     -0.314972  0.000278       1        1  23.105210\n",
       "2      0.195318  0.299006       2        1  20.385852\n",
       "0      0.077257 -0.088137       3        1  19.318631\n",
       "4      0.159881 -0.275127       4        1  18.937507\n",
       "3     -0.117484  0.063981       5        1  18.252799, topic_info=                       Term       Freq      Total Category  logprob  loglift\n",
       "149          apple releases  79.000000  79.000000  Default  30.0000  30.0000\n",
       "259     contact tracing app  90.000000  90.000000  Default  29.0000  29.0000\n",
       "406            google apple  88.000000  88.000000  Default  28.0000  28.0000\n",
       "488                ipad pro  73.000000  73.000000  Default  27.0000  27.0000\n",
       "841            shares apple  69.000000  69.000000  Default  26.0000  26.0000\n",
       "..                      ...        ...        ...      ...      ...      ...\n",
       "387            galaxy watch  16.480947  17.223656   Topic5  -5.0390   1.6568\n",
       "737                 pro max  16.389906  17.133270   Topic5  -5.0446   1.6565\n",
       "595  llc sells shares apple  16.351717  17.094501   Topic5  -5.0469   1.6564\n",
       "594        llc sells shares  16.351717  17.094501   Topic5  -5.0469   1.6564\n",
       "593               llc sells  16.351717  17.094501   Topic5  -5.0469   1.6564\n",
       "\n",
       "[183 rows x 6 columns], token_table=      Topic      Freq                Term\n",
       "term                                     \n",
       "2         3  0.985951         aapl shares\n",
       "6         3  0.992543    aapl shares sold\n",
       "18        1  0.954633        advisors llc\n",
       "21        3  0.992379         airpods pro\n",
       "22        2  0.972829      airpods studio\n",
       "...     ...       ...                 ...\n",
       "939       5  0.982535  tracing technology\n",
       "954       3  0.957274       unlock iphone\n",
       "969       4  0.968906         wall street\n",
       "972       1  0.991868        watch series\n",
       "997       4  0.982091        youtube kids\n",
       "\n",
       "[153 rows x 3 columns], R=30, lambda_step=0.01, plot_opts={'xlab': 'PC1', 'ylab': 'PC2'}, topic_order=[2, 3, 1, 5, 4])"
      ]
     },
     "execution_count": 93,
     "metadata": {},
     "output_type": "execute_result"
    }
   ],
   "source": [
    "pyLDAvis.sklearn.prepare(lda_tf1, dtm_tf1, tf_vectorizer1)"
   ]
  },
  {
   "cell_type": "markdown",
   "metadata": {},
   "source": [
    "**Increase max fearure to 1000 and min df to 3, max iter to 300 removed clusters**"
   ]
  },
  {
   "cell_type": "markdown",
   "metadata": {},
   "source": [
    "### **Trained 2nd model**"
   ]
  },
  {
   "cell_type": "code",
   "execution_count": 94,
   "metadata": {},
   "outputs": [],
   "source": [
    "max_features = 1000\n",
    "max_df = 100\n",
    "min_df = 3\n",
    "max_iter = 300"
   ]
  },
  {
   "cell_type": "code",
   "execution_count": 77,
   "metadata": {},
   "outputs": [],
   "source": [
    "def test_lda_model(tf, tf_vectorizer1, num_topics, max_iter, n_top_words):\n",
    "    lda = LatentDirichletAllocation(n_components=num_topics, max_iter=max_iter, learning_method='batch', learning_offset=10, random_state=1)\n",
    "    lda.fit(tf)\n",
    "    tf_feature_names = tf_vectorizer1.get_feature_names()\n",
    "\n",
    "    topics = dict()\n",
    "    for topic_idx, topic in enumerate(lda.components_):\n",
    "        topics[topic_idx] = [tf_feature_names[i] for i in topic.argsort()[:-n_top_words-1:-1]]\n",
    "\n",
    "    return topics"
   ]
  },
  {
   "cell_type": "code",
   "execution_count": 78,
   "metadata": {},
   "outputs": [],
   "source": [
    "tf_vectorizer = CountVectorizer(max_df=0.15, min_df=0.01, max_features=1000, tokenizer=tokenize_titles, ngram_range=(2, 4))\n",
    "tf = tf_vectorizer1.fit_transform(feed_titles)"
   ]
  },
  {
   "cell_type": "code",
   "execution_count": 79,
   "metadata": {},
   "outputs": [],
   "source": [
    "lda = LatentDirichletAllocation(n_components=8, max_iter=300, learning_method='batch', learning_offset=10, random_state=1)\n",
    "lda_model = lda.fit(tf)"
   ]
  },
  {
   "cell_type": "markdown",
   "metadata": {},
   "source": [
    "## **2. Applying LDA Model to random 10 articles**"
   ]
  },
  {
   "cell_type": "code",
   "execution_count": 80,
   "metadata": {},
   "outputs": [],
   "source": [
    "random_train = lda_tf.transform(dtm_tf)"
   ]
  },
  {
   "cell_type": "code",
   "execution_count": 81,
   "metadata": {},
   "outputs": [
    {
     "data": {
      "text/plain": [
       "8020"
      ]
     },
     "execution_count": 81,
     "metadata": {},
     "output_type": "execute_result"
    }
   ],
   "source": [
    "len(random_train)"
   ]
  },
  {
   "cell_type": "code",
   "execution_count": 82,
   "metadata": {},
   "outputs": [],
   "source": [
    "import numpy as np\n",
    "index = []\n",
    "for i in range(len(random_train)):\n",
    "    if np.max(random_train[i]) > 0.1:\n",
    "        index.append(i)"
   ]
  },
  {
   "cell_type": "code",
   "execution_count": 83,
   "metadata": {},
   "outputs": [
    {
     "data": {
      "text/plain": [
       "[1962, 2629, 3806, 1154, 3308, 3358, 725, 3245, 7242, 2731]"
      ]
     },
     "execution_count": 83,
     "metadata": {},
     "output_type": "execute_result"
    }
   ],
   "source": [
    "import random\n",
    "#testing out random samples\n",
    "random10 = random.sample(index,10)\n",
    "len(random10)\n",
    "random10"
   ]
  },
  {
   "cell_type": "code",
   "execution_count": 95,
   "metadata": {},
   "outputs": [],
   "source": [
    "random10 = [3824,7312,2741,2304,4018,111,3845,5231,7326,1726]"
   ]
  },
  {
   "cell_type": "code",
   "execution_count": 96,
   "metadata": {},
   "outputs": [
    {
     "name": "stdout",
     "output_type": "stream",
     "text": [
      "Title Index:  3824\n",
      "Cluster ID: 2\n",
      "Keywords: ['apple aapl' 'holdings apple' 'llc million' 'llc million holdings'\n",
      " 'llc million holdings apple' 'management llc' 'management llc million'\n",
      " 'million holdings' 'million holdings apple' 'wealth management'\n",
      " 'wealth management llc']\n",
      "\n",
      "\n",
      "Title Index:  7312\n",
      "Cluster ID: 0\n",
      "Keywords: ['apple ios' 'covid specific' 'covid specific features'\n",
      " 'specific features']\n",
      "\n",
      "\n",
      "Title Index:  2741\n",
      "Cluster ID: 3\n",
      "Keywords: ['gadot hedy' 'gadot hedy lamarr' 'gal gadot' 'gal gadot hedy'\n",
      " 'gal gadot hedy lamarr' 'hedy lamarr']\n",
      "\n",
      "\n",
      "Title Index:  2304\n",
      "Cluster ID: 3\n",
      "Keywords: ['gal gadot' 'hedy lamarr' 'hedy lamarr series' 'lamarr series']\n",
      "\n",
      "\n",
      "Title Index:  4018\n",
      "Cluster ID: 0\n",
      "Keywords: ['apple releases' 'apple releases macos' 'apple releases macos catalina'\n",
      " 'battery health' 'battery health management' 'health management'\n",
      " 'macos catalina' 'releases macos' 'releases macos catalina']\n",
      "\n",
      "\n",
      "Title Index:  111\n",
      "Cluster ID: 4\n",
      "Keywords: ['airpods studio' 'apple airpods' 'apple airpods studio' 'date price'\n",
      " 'release date' 'release date price']\n",
      "\n",
      "\n",
      "Title Index:  3845\n",
      "Cluster ID: 2\n",
      "Keywords: ['aapl shares' 'aapl shares sold' 'apple nasdaq aapl shares'\n",
      " 'nasdaq aapl shares' 'nasdaq aapl shares sold' 'shares sold']\n",
      "\n",
      "\n",
      "Title Index:  5231\n",
      "Cluster ID: 0\n",
      "Keywords: ['inch macbook' 'inch macbook pro' 'new inch']\n",
      "\n",
      "\n",
      "Title Index:  7326\n",
      "Cluster ID: 2\n",
      "Keywords: ['apple google release' 'contact tracing tech' 'google release'\n",
      " 'tracing tech']\n",
      "\n",
      "\n",
      "Title Index:  1726\n",
      "Cluster ID: 2\n",
      "Keywords: ['apple watch series' 'apple watch series gps' 'series gps' 'watch series'\n",
      " 'watch series gps']\n",
      "\n",
      "\n"
     ]
    }
   ],
   "source": [
    "for i in random10:\n",
    "    print('Title Index: ', i)\n",
    "    print('Cluster ID:', np.argmax(random_train[i]))\n",
    "    print('Keywords:', np.array(tf_vectorizer1.get_feature_names())[np.nonzero(dtm_tf1[i,:].toarray())[-1]])\n",
    "    print('\\n')\n",
    "    "
   ]
  },
  {
   "cell_type": "code",
   "execution_count": null,
   "metadata": {},
   "outputs": [],
   "source": []
  }
 ],
 "metadata": {
  "kernelspec": {
   "display_name": "Python 3",
   "language": "python",
   "name": "python3"
  },
  "language_info": {
   "codemirror_mode": {
    "name": "ipython",
    "version": 3
   },
   "file_extension": ".py",
   "mimetype": "text/x-python",
   "name": "python",
   "nbconvert_exporter": "python",
   "pygments_lexer": "ipython3",
   "version": "3.8.3"
  }
 },
 "nbformat": 4,
 "nbformat_minor": 4
}
